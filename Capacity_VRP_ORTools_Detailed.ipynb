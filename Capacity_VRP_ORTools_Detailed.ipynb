{
  "nbformat": 4,
  "nbformat_minor": 5,
  "metadata": {
    "noteable-chatgpt": {
      "create_notebook": {
        "openai_conversation_id": "0770d598-d872-5b89-882f-6e598031ef8f",
        "openai_ephemeral_user_id": "d5395072-dfc3-592b-8c49-0352d106edd3",
        "openai_subdivision1_iso_code": "US-MD"
      }
    },
    "noteable": {
      "last_transaction_id": "adfc9ba0-78df-4a87-b5ce-bf5629cbf7c0"
    },
    "selected_hardware_size": "small",
    "colab": {
      "provenance": [],
      "include_colab_link": true
    },
    "language_info": {
      "name": "python"
    },
    "kernelspec": {
      "name": "python3",
      "display_name": "Python 3"
    }
  },
  "cells": [
    {
      "cell_type": "markdown",
      "metadata": {
        "id": "view-in-github",
        "colab_type": "text"
      },
      "source": [
        "<a href=\"https://colab.research.google.com/github/Sambosis/NowNotThen/blob/circleci-project-setup/Capacity_VRP_ORTools_Detailed.ipynb\" target=\"_parent\"><img src=\"https://colab.research.google.com/assets/colab-badge.svg\" alt=\"Open In Colab\"/></a>"
      ]
    },
    {
      "id": "3639b456-3911-4a0a-8328-bed354432a31",
      "cell_type": "code",
      "metadata": {
        "noteable": {
          "cell_type": "python",
          "output_collection_id": "9b181480-7870-4b4c-a8d3-f30f36ebee98"
        },
        "ExecuteTime": {
          "end_time": "2023-06-06T19:43:12.902023+00:00",
          "start_time": "2023-06-06T19:42:59.961259+00:00"
        },
        "colab": {
          "base_uri": "https://localhost:8080/"
        },
        "id": "3639b456-3911-4a0a-8328-bed354432a31",
        "outputId": "23f1d032-716f-4286-98e8-13a033f84186"
      },
      "execution_count": 4,
      "source": [
        "!pip install ortools pandas"
      ],
      "outputs": [
        {
          "output_type": "stream",
          "name": "stdout",
          "text": [
            "Looking in indexes: https://pypi.org/simple, https://us-python.pkg.dev/colab-wheels/public/simple/\n",
            "Requirement already satisfied: ortools in /usr/local/lib/python3.10/dist-packages (9.6.2534)\n",
            "Requirement already satisfied: pandas in /usr/local/lib/python3.10/dist-packages (1.5.3)\n",
            "Requirement already satisfied: absl-py>=0.13 in /usr/local/lib/python3.10/dist-packages (from ortools) (1.4.0)\n",
            "Requirement already satisfied: numpy>=1.13.3 in /usr/local/lib/python3.10/dist-packages (from ortools) (1.22.4)\n",
            "Requirement already satisfied: protobuf>=4.21.12 in /usr/local/lib/python3.10/dist-packages (from ortools) (4.23.2)\n",
            "Requirement already satisfied: scipy>=1.10.0 in /usr/local/lib/python3.10/dist-packages (from ortools) (1.10.1)\n",
            "Requirement already satisfied: python-dateutil>=2.8.1 in /usr/local/lib/python3.10/dist-packages (from pandas) (2.8.2)\n",
            "Requirement already satisfied: pytz>=2020.1 in /usr/local/lib/python3.10/dist-packages (from pandas) (2022.7.1)\n",
            "Requirement already satisfied: six>=1.5 in /usr/local/lib/python3.10/dist-packages (from python-dateutil>=2.8.1->pandas) (1.16.0)\n"
          ]
        }
      ]
    },
    {
      "id": "7694f0a8-38b8-4cdf-8dc4-fdc1013517bf",
      "cell_type": "markdown",
      "source": [
        "# Capacity Vehicle Routing Problem using Google OR-Tools\n",
        "\n",
        "This notebook presents a solution to the Capacity Vehicle Routing Problem (CVRP) using Google OR-Tools. The CVRP is a classic optimization problem in logistics where the goal is to determine the optimal set of routes for a fleet of vehicles delivering to a set of customers, subject to constraints on vehicle capacity and route length.\n",
        "\n",
        "The solution is divided into several sections, each performing a specific part of the problem-solving process:\n",
        "\n",
        "1. **Data Loading and Preparation:** In this section, we load the necessary data from CSV files and prepare it for use in the optimization model. This includes creating a distance matrix and a list of customer demands.\n",
        "\n",
        "2. **Model Creation:** In this section, we create the optimization model, define the objective function and add the necessary constraints.\n",
        "\n",
        "3. **Problem Solving:** In this section, we solve the optimization problem and obtain the optimal set of routes.\n",
        "\n",
        "4. **Solution Presentation:** In this section, we present the solution in a human-readable format, showing the routes for each vehicle and the total distance and demand served.\n",
        "\n",
        "5. **Visualization:** In this section, we visualize the routes on a map, providing a graphical representation of the solution."
      ],
      "metadata": {
        "jupyter": {
          "outputs_hidden": false,
          "source_hidden": false
        },
        "noteable": {
          "cell_type": "markdown"
        },
        "id": "7694f0a8-38b8-4cdf-8dc4-fdc1013517bf"
      }
    },
    {
      "id": "6ed9d46e-2e7d-43b0-826d-ad0a2eaaacf8",
      "cell_type": "markdown",
      "source": [
        "# 1. Data Loading and Preparation\n",
        "\n",
        "In this section, we load the necessary data from CSV files and prepare it for use in the optimization model. This includes creating a distance matrix and a list of customer demands.\n",
        "\n",
        "We load two CSV files:\n",
        "\n",
        "- `distances.csv`: This file contains the distances between customers. The first row and column are customer numbers and their intersection in the grid is their distance apart. The 0,0 location of the CSV is blank.\n",
        "\n",
        "- `dataset.csv`: This file contains information about the customers. The customer numbers are in the 'CUST NUMB' column, the name of the customer is in the 'CUSTOMER NAME' column, and the demand of each stop is in the 'Companion' column. There are also columns for 'Latitude' and 'Longitude' for visualizing the stops on the map.\n",
        "\n",
        "We create a distance matrix as a numpy array from the distances in `distances.csv` and a dictionary mapping customer numbers to their demands from the 'Companion' column in `dataset.csv`."
      ],
      "metadata": {
        "jupyter": {
          "outputs_hidden": false,
          "source_hidden": false
        },
        "noteable": {
          "cell_type": "markdown"
        },
        "id": "6ed9d46e-2e7d-43b0-826d-ad0a2eaaacf8"
      }
    },
    {
      "id": "af3530a6-d8db-4a81-b3c8-415e7c614204",
      "cell_type": "code",
      "metadata": {
        "jupyter": {
          "outputs_hidden": true,
          "source_hidden": false
        },
        "noteable": {
          "cell_type": "code",
          "output_collection_id": "48b9480c-b6f6-4de7-b6ee-b6358b062e4e"
        },
        "ExecuteTime": {
          "end_time": "2023-06-06T19:56:50.554865+00:00",
          "start_time": "2023-06-06T19:56:50.341522+00:00"
        },
        "colab": {
          "base_uri": "https://localhost:8080/"
        },
        "id": "af3530a6-d8db-4a81-b3c8-415e7c614204",
        "outputId": "35921b7d-c80d-4f99-b8c6-d8df5240fbef"
      },
      "execution_count": 5,
      "source": [
        "# Import necessary libraries\n",
        "from ortools.constraint_solver import routing_enums_pb2\n",
        "from ortools.constraint_solver import pywrapcp\n",
        "import pandas as pd\n",
        "import numpy as np\n",
        "\n",
        "# Load your data\n",
        "distances_df = pd.read_csv('distances.csv', index_col=0)\n",
        "dataset = pd.read_csv('dataset.csv')\n",
        "\n",
        "# Prepare your data\n",
        "# Convert the distances dataframe to a numpy array to create a distance matrix\n",
        "distance_matrix = distances_df.values\n",
        "\n",
        "# Create a dictionary mapping customer numbers to their demands\n",
        "# Create a dictionary mapping customer numbers to their demands\n",
        "capacities = dataset.set_index('CUST NUMB')['Companion'].to_dict()\n",
        "capacities = {int(k): v for k, v in capacities.items()}\n",
        "#print(capacities)\n",
        "#capacities = dataset.set_index('CUST NUMB')['Companion'].to_dict()\n",
        "\n",
        "# Create a dictionary mapping customer numbers to their names for later use\n",
        "customer_names = dataset.set_index('CUST NUMB')['CUST NAME'].to_dict()\n",
        "#print(customer_names)\n",
        "# Create a dictionary mapping customer numbers to their coordinates for visualization\n",
        "coordinates = dataset.set_index('CUST NUMB')[['Latitude', 'Longitude']].to_dict('index')\n",
        "print(coordinates)"
      ],
      "outputs": [
        {
          "output_type": "stream",
          "name": "stdout",
          "text": [
            "{650476: {'Latitude': 39.498835375174224, 'Longitude': -76.65440171080951}, 6501024: {'Latitude': 39.49678997314139, 'Longitude': -76.65442382698039}, 65050465: {'Latitude': 39.49423458137511, 'Longitude': -76.6488292951814}, 226500031: {'Latitude': 39.49574478353152, 'Longitude': -76.65591867386789}, 176500031: {'Latitude': 39.26864052824725, 'Longitude': -76.61164370402383}, 196500032: {'Latitude': 39.27317480164636, 'Longitude': -76.60541519442452}, 226500030: {'Latitude': 39.28050390587434, 'Longitude': -76.60613127707688}, 650707: {'Latitude': 39.26987341883082, 'Longitude': -76.60544991566691}, 156500184: {'Latitude': 39.27608680234434, 'Longitude': -76.60445319828649}, 226500027: {'Latitude': 39.497761709561935, 'Longitude': -76.6518986873857}, 176500024: {'Latitude': 39.268595092694106, 'Longitude': -76.59776391602836}, 650643: {'Latitude': 39.27325558869548, 'Longitude': -76.50237091220987}, 650938: {'Latitude': 39.28612949198583, 'Longitude': -76.60203142027805}, 196500020: {'Latitude': 39.286740322291216, 'Longitude': -76.60180389873759}, 65092620: {'Latitude': 39.28617057305974, 'Longitude': -76.60246967569553}, 196500023: {'Latitude': 39.2939057897729, 'Longitude': -76.61575089468245}, 65093622: {'Latitude': 39.29441251364692, 'Longitude': -76.6151416113631}, 176500012: {'Latitude': 39.295839293148354, 'Longitude': -76.61593137638792}, 146500121: {'Latitude': 39.29954518416727, 'Longitude': -76.61317527750599}, 176500020: {'Latitude': 39.29931422488004, 'Longitude': -76.61728957284127}, 216500030: {'Latitude': 39.30063959085174, 'Longitude': -76.61985791345373}, 196500012: {'Latitude': 39.30631330541802, 'Longitude': -76.62845629108524}, 6505398: {'Latitude': 39.30843611404898, 'Longitude': -76.62376279271488}, 186500030: {'Latitude': 39.309487377011486, 'Longitude': -76.61758997461327}, 216500029: {'Latitude': 39.31489151493516, 'Longitude': -76.61773670910459}, 216500015: {'Latitude': 39.323223295304615, 'Longitude': -76.62318639717299}, 226500021: {'Latitude': 39.3059909020667, 'Longitude': -76.62800399820178}, 650422: {'Latitude': 39.42020327762405, 'Longitude': -76.66885577440304}, 216500031: {'Latitude': 39.32608201092764, 'Longitude': -76.6157035110728}, 216500034: {'Latitude': 39.32608201092764, 'Longitude': -76.6157035110728}, 65040034: {'Latitude': 39.32614818755298, 'Longitude': -76.61557029838542}, 65086721: {'Latitude': 39.329070902561725, 'Longitude': -76.6157056883124}, 226500016: {'Latitude': 39.327928997676025, 'Longitude': -76.61640108718836}, 166500205: {'Latitude': 39.33627819596245, 'Longitude': -76.62202398039823}, 236500006: {'Latitude': 39.32087600180952, 'Longitude': -76.61667129408454}, 196500027: {'Latitude': 39.36429697805993, 'Longitude': -76.61063942360052}, 186500012: {'Latitude': 39.33519467547608, 'Longitude': -76.62980910173533}, 166500242: {'Latitude': 39.33135190483991, 'Longitude': -76.6292728132391}, 6503727: {'Latitude': 39.33179268127171, 'Longitude': -76.63093192712645}, 166500233: {'Latitude': 39.33086070812215, 'Longitude': -76.6313815271083}, 156500396: {'Latitude': 39.32303410464066, 'Longitude': -76.63050077638562}, 206500008: {'Latitude': 39.32161059099866, 'Longitude': -76.60927412247051}, 650615: {'Latitude': 39.29709790953692, 'Longitude': -76.63544998581996}, 216500020: {'Latitude': 39.38495382544779, 'Longitude': -76.66880798972294}, 650470: {'Latitude': 39.27964338056184, 'Longitude': -76.50214499495125}, 650894: {'Latitude': 39.29593222690272, 'Longitude': -76.50798578401059}, 65047797: {'Latitude': 39.270821205615526, 'Longitude': -76.50352278656119}, 206500007: {'Latitude': 39.28780951883272, 'Longitude': -76.64497122657211}, 216500014: {'Latitude': 39.206637499376725, 'Longitude': -76.86273838973958}, 236500002: {'Latitude': 39.206637499376725, 'Longitude': -76.86273838973958}, 236500014: {'Latitude': 39.20665039092711, 'Longitude': -76.86280250371685}, 650810: {'Latitude': 39.15145049102861, 'Longitude': -76.74380449817566}, 196500030: {'Latitude': 39.1309851261359, 'Longitude': -76.74215518186661}, 226500001: {'Latitude': 39.15459247698556, 'Longitude': -76.742399605662}, 226500004: {'Latitude': 39.15944199176354, 'Longitude': -76.71103629702701}, 196500013: {'Latitude': 39.28419129035646, 'Longitude': -76.57442648559598}, 196500024: {'Latitude': 39.27833858377498, 'Longitude': -76.57805451165052}, 166500075: {'Latitude': 39.28081908995744, 'Longitude': -76.58051662588775}, 216500025: {'Latitude': 39.282531775398645, 'Longitude': -76.59964751477985}, 146500261: {'Latitude': 39.28211580803938, 'Longitude': -76.58242680988094}, 196500033: {'Latitude': 39.28293359070037, 'Longitude': -76.58391690121874}, 166500111: {'Latitude': 39.28354997869638, 'Longitude': -76.60011138141078}, 186500014: {'Latitude': 39.28020791587738, 'Longitude': -76.59718167631694}, 196500008: {'Latitude': 39.28446361719649, 'Longitude': -76.59859258488744}, 206500010: {'Latitude': 39.397402708645714, 'Longitude': -76.54356422855281}, 216500028: {'Latitude': 39.40016711541567, 'Longitude': -76.54201747168908}, 650723: {'Latitude': 39.39934520745855, 'Longitude': -76.5417332846227}, 65094668: {'Latitude': 39.40237271644802, 'Longitude': -76.54245589899392}, 156500024: {'Latitude': 39.38896309761922, 'Longitude': -76.542623489149}, 650502: {'Latitude': 39.37588229926904, 'Longitude': -76.54058169675027}, 65093551: {'Latitude': 39.400857701446135, 'Longitude': -76.54089791215739}, 226500007: {'Latitude': 39.3974919754702, 'Longitude': -76.54186878914125}, 196500014: {'Latitude': 39.68362028016077, 'Longitude': -75.74823280417323}, 65040669: {'Latitude': 39.68684517311066, 'Longitude': -75.76490232367321}, 226500025: {'Latitude': 39.659226773920416, 'Longitude': -75.7367597253962}, 206500005: {'Latitude': 39.661562722851166, 'Longitude': -75.58888991819214}, 226500017: {'Latitude': 39.631120271984486, 'Longitude': -75.6605840125053}, 166500225: {'Latitude': 39.72864800195607, 'Longitude': -75.65338491240104}, 216500002: {'Latitude': 39.68514068096593, 'Longitude': -75.74332702493977}, 216500004: {'Latitude': 39.683718427831074, 'Longitude': -75.74591851304713}, 186500009: {'Latitude': 39.443348824490826, 'Longitude': -75.74119201230776}, 65049796: {'Latitude': 39.61116197474046, 'Longitude': -75.70732568024896}, 650982: {'Latitude': 39.480994901828346, 'Longitude': -76.64428247400657}, 166500219: {'Latitude': 39.42544721654821, 'Longitude': -76.77914109723257}, 166500248: {'Latitude': 39.34333909864653, 'Longitude': -76.44784681603073}, 650389: {'Latitude': 39.37172921469104, 'Longitude': -76.46236522278467}, 176500015: {'Latitude': 39.37083282222056, 'Longitude': -76.46515420944402}, 196500028: {'Latitude': 39.371247185298, 'Longitude': -76.46521058849106}, 216500016: {'Latitude': 39.395582479026366, 'Longitude': -76.52136681224542}, 226500018: {'Latitude': 39.401561809280565, 'Longitude': -76.60177089636859}, 216500041: {'Latitude': 39.401561809280565, 'Longitude': -76.60177089636859}, 196500005: {'Latitude': 39.39993369240993, 'Longitude': -76.60274400788785}, 176500033: {'Latitude': 39.39985571285401, 'Longitude': -76.60230042396286}, 65050330: {'Latitude': 39.39767549385198, 'Longitude': -76.57600481243422}, 226500029: {'Latitude': 39.40161480787662, 'Longitude': -76.60547208913358}, 650416: {'Latitude': 39.55105789989032, 'Longitude': -76.09106129874885}, 650419: {'Latitude': 39.54797968413598, 'Longitude': -76.08938230322599}, 65095661: {'Latitude': 39.507595899861776, 'Longitude': -76.16521017343946}, 65023694: {'Latitude': 39.405120220963006, 'Longitude': -76.44352299002978}, 196500015: {'Latitude': 39.39679067512896, 'Longitude': -76.4773143219132}, 166500243: {'Latitude': 39.36925770394596, 'Longitude': -76.45461900528184}, 650890: {'Latitude': 39.39678139321268, 'Longitude': -76.47649201288563}, 65094609: {'Latitude': 39.524845825608224, 'Longitude': -76.18006748472922}, 650820: {'Latitude': 39.5246671773677, 'Longitude': -76.18688711488576}, 65065391: {'Latitude': 39.37398059505123, 'Longitude': -76.47221900824111}, 176500025: {'Latitude': 39.39952351192439, 'Longitude': -76.60282170096487}, 65094393: {'Latitude': 39.395582479026366, 'Longitude': -76.52136681224542}, 650892: {'Latitude': 39.31045000340309, 'Longitude': -76.52855090085544}, 650768: {'Latitude': 39.477403716960026, 'Longitude': -76.64337897685944}, 166500237: {'Latitude': 39.40466489140322, 'Longitude': -76.44211849858657}, 650944: {'Latitude': 39.39966938697904, 'Longitude': -76.48254960917465}, 226500026: {'Latitude': 39.39342202706826, 'Longitude': -76.58282180698491}, 236500005: {'Latitude': 39.4123813151007, 'Longitude': -76.773461481201}, 166500235: {'Latitude': 39.41292069756904, 'Longitude': -76.7719288763948}, 6501006: {'Latitude': 39.39505782157336, 'Longitude': -76.50086598126518}, 206500014: {'Latitude': 39.405636685119546, 'Longitude': -76.6070171844197}, 650554: {'Latitude': 39.42544721654821, 'Longitude': -76.77914109723257}, 156500358: {'Latitude': 39.426671684652185, 'Longitude': -76.7794114760161}, 156500029: {'Latitude': 39.40531588605005, 'Longitude': -76.8048211802019}, 236500004: {'Latitude': 39.40599948199542, 'Longitude': -76.79162619136315}, 146500016: {'Latitude': 39.27275052639907, 'Longitude': -76.53470080064525}, 146500020: {'Latitude': 39.40686527851964, 'Longitude': -76.41407479282499}, 650936: {'Latitude': 39.39911270118529, 'Longitude': -76.48165361777463}, 65010937: {'Latitude': 39.27139972110127, 'Longitude': -76.53252361831953}, 6501056: {'Latitude': 39.404646614049554, 'Longitude': -76.4430069269437}, 236500003: {'Latitude': 39.28933118014502, 'Longitude': -76.53588057804122}, 196500021: {'Latitude': 39.53222689710822, 'Longitude': -76.44785798870774}, 650740: {'Latitude': 39.57871571857688, 'Longitude': -76.38479980076168}, 650596: {'Latitude': 39.5612872018857, 'Longitude': -76.37032860573007}, 176500029: {'Latitude': 39.56080660488714, 'Longitude': -76.3694217854277}, 176500006: {'Latitude': 39.557814390097846, 'Longitude': -76.36822791327}, 156500333: {'Latitude': 39.482694982198055, 'Longitude': -76.40245469307773}, 216500043: {'Latitude': 39.52983342321484, 'Longitude': -76.34989011255794}, 6501074: {'Latitude': 39.52824999705221, 'Longitude': -76.35307799243427}, 156500439: {'Latitude': 39.52813849946528, 'Longitude': -76.35456201041943}, 650657: {'Latitude': 39.525509826397005, 'Longitude': -76.357217898983}, 65093788: {'Latitude': 39.52371990624501, 'Longitude': -76.34884990768089}, 650862: {'Latitude': 39.53709239740869, 'Longitude': -76.34973180431913}, 65097161: {'Latitude': 39.52468797573567, 'Longitude': -76.35545897584771}, 216500035: {'Latitude': 39.52496752184391, 'Longitude': -76.35373878465938}, 650585: {'Latitude': 39.36678510458108, 'Longitude': -77.16455840415695}, 146500095: {'Latitude': 39.37617857574491, 'Longitude': -77.15536930703864}, 650729: {'Latitude': 39.3639231803944, 'Longitude': -77.16535069019606}, 650968: {'Latitude': 39.36233081609017, 'Longitude': -77.15923241767653}, 6501036: {'Latitude': 39.36833850775523, 'Longitude': -77.1468844896421}, 6501084: {'Latitude': 39.35926978906968, 'Longitude': -76.70781169055601}, 650639: {'Latitude': 39.3635951047609, 'Longitude': -76.71166821217925}, 176500032: {'Latitude': 39.376917404821725, 'Longitude': -76.72549030332478}, 196500001: {'Latitude': 39.37572387643869, 'Longitude': -76.7250419065543}, 186500034: {'Latitude': 39.36979811773833, 'Longitude': -76.7177965114602}, 6501059: {'Latitude': 39.36896257338569, 'Longitude': -76.71804758156601}, 65094406: {'Latitude': 39.3727601949476, 'Longitude': -76.72172488199095}, 6501012: {'Latitude': 39.336422409439486, 'Longitude': -76.764073510432}, 186500021: {'Latitude': 39.25003779185073, 'Longitude': -76.6465054929559}, 216500021: {'Latitude': 39.27650849928156, 'Longitude': -76.61349418581476}, 65047430: {'Latitude': 39.2778426888033, 'Longitude': -76.61228352599366}, 236500010: {'Latitude': 39.27804689096149, 'Longitude': -76.61276068524545}, 6501046: {'Latitude': 39.27691982568268, 'Longitude': -76.56485952281177}, 196500009: {'Latitude': 39.27624362089286, 'Longitude': -76.56507661652036}, 650826: {'Latitude': 39.286878004049385, 'Longitude': -76.56620488501052}, 236500009: {'Latitude': 39.288418515673165, 'Longitude': -76.56391219439331}, 176500030: {'Latitude': 39.22773689936553, 'Longitude': -76.81567529267285}, 65077242: {'Latitude': 39.07969537671028, 'Longitude': -76.68857532013385}, 166500224: {'Latitude': 39.07982228686189, 'Longitude': -76.68898120343592}, 650780: {'Latitude': 39.15901977916431, 'Longitude': -76.6287937059308}, 650924: {'Latitude': 39.16731758313651, 'Longitude': -76.62292971208076}, 176500028: {'Latitude': 39.1642641764547, 'Longitude': -76.62410347341986}, 236500016: {'Latitude': 39.10184730016874, 'Longitude': -76.71829280750234}, 650691: {'Latitude': 39.12176279746547, 'Longitude': -76.51418312470585}, 186500005: {'Latitude': 39.15317389078059, 'Longitude': -76.59627428305679}, 650649: {'Latitude': 39.159484104161486, 'Longitude': -76.62112157187089}, 146500170: {'Latitude': 39.169689685704135, 'Longitude': -76.61932758371856}, 650496: {'Latitude': 39.313008202662566, 'Longitude': -76.74172317168907}, 650928: {'Latitude': 39.31244309438923, 'Longitude': -76.75543657274086}, 650661: {'Latitude': 39.17530518775843, 'Longitude': -76.64781412855999}, 650597: {'Latitude': 39.179682814496346, 'Longitude': -76.6382001259408}, 156500201: {'Latitude': 39.2160462112179, 'Longitude': -76.67767250625029}, 206500011: {'Latitude': 39.22529959420083, 'Longitude': -76.66356072764357}, 186500013: {'Latitude': 39.2025468099026, 'Longitude': -76.68341027749808}, 650485: {'Latitude': 39.36304941975682, 'Longitude': -76.5517583271641}, 156500378: {'Latitude': 39.351746509444936, 'Longitude': -76.56164299504569}, 216500008: {'Latitude': 39.35144232615151, 'Longitude': -76.56252517816286}, 226500032: {'Latitude': 39.34448621744816, 'Longitude': -76.5674039137884}, 186500027: {'Latitude': 39.925328484797774, 'Longitude': -77.6147241818188}, 216500026: {'Latitude': 39.92743708407541, 'Longitude': -77.63076889084317}, 216500042: {'Latitude': 39.93461647443152, 'Longitude': -77.65408231434394}, 166500222: {'Latitude': 39.47253111198289, 'Longitude': -76.83439439679756}, 65029741: {'Latitude': 39.46615987859682, 'Longitude': -76.82901329177726}, 156500214: {'Latitude': 39.43212200297414, 'Longitude': -76.83460587551976}, 176500013: {'Latitude': 39.4406143261178, 'Longitude': -76.80573092258899}, 6501002: {'Latitude': 39.44122601585987, 'Longitude': -76.80884300014903}, 166500238: {'Latitude': 39.27290660010247, 'Longitude': -76.6119561952053}, 196500018: {'Latitude': 39.27681829756138, 'Longitude': -76.61324592320214}, 650770: {'Latitude': 39.30774988249775, 'Longitude': -76.74794532145685}, 65093711: {'Latitude': 39.28421289086534, 'Longitude': -76.7538781275381}, 186500035: {'Latitude': 39.36258022461839, 'Longitude': -76.78700637536522}, 236500007: {'Latitude': 39.36369479941725, 'Longitude': -76.78605142660808}, 65022116: {'Latitude': 39.20793301424729, 'Longitude': -76.72891750767212}, 186500001: {'Latitude': 39.19430292125893, 'Longitude': -76.74983888967398}, 650559: {'Latitude': 39.20908798257072, 'Longitude': -76.77769867598333}, 650538: {'Latitude': 39.21430550814051, 'Longitude': -76.80190190293992}, 650800: {'Latitude': 39.21430550814051, 'Longitude': -76.80190190293992}, 650599: {'Latitude': 39.2441387902794, 'Longitude': -76.84291571160566}, 65078800: {'Latitude': 39.13698479639183, 'Longitude': -76.59853127840337}, 650918: {'Latitude': 39.10737307703232, 'Longitude': -76.4855427979922}, 186500003: {'Latitude': 39.12414968234421, 'Longitude': -76.58358682023297}, 196500036: {'Latitude': 39.12374001752069, 'Longitude': -76.58415880399984}, 216500007: {'Latitude': 39.12011199146614, 'Longitude': -76.51654399730069}, 166500215: {'Latitude': 39.277072576230864, 'Longitude': -76.83610289964687}, 156500186: {'Latitude': 39.22939257550612, 'Longitude': -76.82210038409166}, 65062066: {'Latitude': 39.28690802703785, 'Longitude': -76.80867351923324}, 166500029: {'Latitude': 39.272360399436366, 'Longitude': -76.82700152236698}, 650433: {'Latitude': 39.2780404165384, 'Longitude': -76.83358217182719}, 216500027: {'Latitude': 39.27959021007844, 'Longitude': -76.83128197546286}, 226500003: {'Latitude': 39.286823916833534, 'Longitude': -76.80676900752222}, 65091580: {'Latitude': 39.2780404165384, 'Longitude': -76.83358217182719}, 166500210: {'Latitude': 39.2780404165384, 'Longitude': -76.83358217182719}, 176500010: {'Latitude': 39.27738082752464, 'Longitude': -76.81758410156733}, 146500247: {'Latitude': 39.15171439538906, 'Longitude': -76.61382357925119}, 216500005: {'Latitude': 39.1522271926157, 'Longitude': -76.61636539191772}, 216500011: {'Latitude': 39.23074028683183, 'Longitude': -76.675380617774}, 186500006: {'Latitude': 39.278228289399415, 'Longitude': -76.83470620042968}, 65094262: {'Latitude': 39.137010808675726, 'Longitude': -76.5947024879374}, 166500126: {'Latitude': 39.13670387518488, 'Longitude': -76.5936819928085}, 156500360: {'Latitude': 39.24821469744241, 'Longitude': -76.67019168279818}, 226500028: {'Latitude': 39.27738082752464, 'Longitude': -76.81758410156733}, 166500209: {'Latitude': 39.283868715117805, 'Longitude': -76.82699378743676}, 650884: {'Latitude': 39.27668307952173, 'Longitude': -76.83531439512922}, 176500009: {'Latitude': 40.30781820657216, 'Longitude': -76.80381271718667}, 206500013: {'Latitude': 40.26983058909297, 'Longitude': -76.67126489004423}, 650512: {'Latitude': 40.265490319203295, 'Longitude': -76.69816021649703}, 196500035: {'Latitude': 40.24961858613725, 'Longitude': -76.8136626065301}, 196500026: {'Latitude': 40.24079371828932, 'Longitude': -76.9345074842281}, 186500016: {'Latitude': 40.24110191228731, 'Longitude': -76.98775268131274}, 196500007: {'Latitude': 39.95908790293202, 'Longitude': -76.69491269171422}, 6501030: {'Latitude': 39.978955672844414, 'Longitude': -76.75430228819384}, 216500037: {'Latitude': 40.075620585672304, 'Longitude': -76.32442551901536}, 650994: {'Latitude': 39.97397237242127, 'Longitude': -76.67515510158584}, 186500032: {'Latitude': 39.94252111476471, 'Longitude': -76.74203887143419}, 186500033: {'Latitude': 39.9850032996678, 'Longitude': -76.73935381931888}, 196500017: {'Latitude': 39.769183390862864, 'Longitude': -76.68032031610893}, 176500027: {'Latitude': 39.97776649894062, 'Longitude': -76.73290082485543}, 176500014: {'Latitude': 39.76912827232297, 'Longitude': -76.66918350626186}, 650796: {'Latitude': 39.20952938925608, 'Longitude': -76.88569778261872}, 206500001: {'Latitude': 39.21518058658102, 'Longitude': -76.86597027277458}, 186500020: {'Latitude': 39.2155456179923, 'Longitude': -76.86568178852471}, 206500002: {'Latitude': 39.2155456179923, 'Longitude': -76.86568178852471}, 226500024: {'Latitude': 39.21570358245641, 'Longitude': -76.86148137763284}, 186500025: {'Latitude': 39.35965601991938, 'Longitude': -76.40690749187837}, 196500019: {'Latitude': 39.33414209471065, 'Longitude': -76.4452485097256}, 166500236: {'Latitude': 39.36774629857818, 'Longitude': -76.44967237415759}, 6501022: {'Latitude': 39.33726248015871, 'Longitude': -76.47899171315423}, 65094414: {'Latitude': 39.34106159141088, 'Longitude': -76.48454877351342}, 650427: {'Latitude': 39.353498614382445, 'Longitude': -76.46146327262358}, 156500451: {'Latitude': 39.31677998382792, 'Longitude': -76.46267101035994}, 186500026: {'Latitude': 39.30812471148733, 'Longitude': -76.47445090803626}, 166500220: {'Latitude': 39.11520632682423, 'Longitude': -76.83186771021683}, 226500005: {'Latitude': 39.12903672585777, 'Longitude': -76.7915161261707}, 6501076: {'Latitude': 39.17003890348027, 'Longitude': -76.78527117268267}, 166500223: {'Latitude': 39.1744078212597, 'Longitude': -76.83416550015842}, 226500015: {'Latitude': 39.17319847924151, 'Longitude': -76.84418991244624}, 65052084: {'Latitude': 39.1904480039175, 'Longitude': -76.81524087607258}, 650856: {'Latitude': 39.19093862767748, 'Longitude': -76.81812491643015}, 650494: {'Latitude': 39.177476812393536, 'Longitude': -76.84241597781674}, 6501038: {'Latitude': 39.18339397672697, 'Longitude': -76.8049212759287}, 186500023: {'Latitude': 39.19597618720383, 'Longitude': -76.81254138542081}, 650934: {'Latitude': 39.198436181497215, 'Longitude': -76.81979210902243}, 146500058: {'Latitude': 39.199042027069794, 'Longitude': -76.81341589090353}, 226500022: {'Latitude': 39.19770491546329, 'Longitude': -76.81411438375157}, 650868: {'Latitude': 39.28655199106396, 'Longitude': -76.61812030434844}, 196500003: {'Latitude': 39.288528408978266, 'Longitude': -76.61200472473054}, 650748: {'Latitude': 39.28835302659717, 'Longitude': -76.61315201541952}, 176500002: {'Latitude': 39.28209902037599, 'Longitude': -76.59090429341771}, 650778: {'Latitude': 39.28206819524661, 'Longitude': -76.59160960446351}, 156500195: {'Latitude': 39.282888384330334, 'Longitude': -76.59282868676422}, 650432: {'Latitude': 39.28899989594788, 'Longitude': -76.59326121260376}, 166500229: {'Latitude': 39.28910050733671, 'Longitude': -76.59284358366689}, 216500001: {'Latitude': 39.28502700659645, 'Longitude': -76.59387061051466}, 216500032: {'Latitude': 39.28690550602356, 'Longitude': -76.59090738738979}, 186500024: {'Latitude': 39.28965077600314, 'Longitude': -76.58716001422651}, 206500015: {'Latitude': 39.296837099148576, 'Longitude': -76.59052258893459}, 236500015: {'Latitude': 39.284495588241455, 'Longitude': -76.62039431654152}, 216500013: {'Latitude': 39.283770223672825, 'Longitude': -76.61374239113162}, 206500003: {'Latitude': 39.335868187364255, 'Longitude': -76.64431559096714}, 650866: {'Latitude': 39.337971171655504, 'Longitude': -76.63450242821837}, 650479: {'Latitude': 39.28054991438529, 'Longitude': -76.59450607800522}, 65093180: {'Latitude': 39.33090327888633, 'Longitude': -76.63304700082718}, 650387: {'Latitude': 39.33085360344549, 'Longitude': -76.63407368390027}, 650567: {'Latitude': 39.33088941330769, 'Longitude': -76.63441837530982}, 216500039: {'Latitude': 39.33080232372283, 'Longitude': -76.63357778892859}, 226500023: {'Latitude': 39.28832512355255, 'Longitude': -76.61034652757566}, 216500040: {'Latitude': 39.34988221937114, 'Longitude': -76.63837980550537}, 6501044: {'Latitude': 39.33083412288045, 'Longitude': -76.63433317648568}, 166500244: {'Latitude': 39.33021521387016, 'Longitude': -76.63953391439209}, 146500068: {'Latitude': 39.07464039926696, 'Longitude': -76.54525869393613}, 6501026: {'Latitude': 39.07692472470036, 'Longitude': -76.546160701393}, 6501010: {'Latitude': 39.08176197818153, 'Longitude': -76.55059201427632}, 216500023: {'Latitude': 39.07313942173105, 'Longitude': -76.54752491390322}, 216500036: {'Latitude': 39.1017721854018, 'Longitude': -76.5655301126152}, 206500012: {'Latitude': 39.08150861624453, 'Longitude': -76.55103989538479}, 176500034: {'Latitude': 39.28929307845165, 'Longitude': -76.72310101202329}, 156500417: {'Latitude': 39.25689850308118, 'Longitude': -76.69099480631112}, 65085524: {'Latitude': 39.28109239082572, 'Longitude': -76.85727661226171}, 186500007: {'Latitude': 39.280345998706, 'Longitude': -76.86319142746818}, 65093606: {'Latitude': 39.278697713720966, 'Longitude': -76.85862340685495}, 650561: {'Latitude': 39.27253641207104, 'Longitude': -76.72810579836377}, 65035326: {'Latitude': 39.28914141652328, 'Longitude': -76.73399030410287}, 196500002: {'Latitude': 39.275141593869705, 'Longitude': -76.71771131263606}, 156500402: {'Latitude': 39.27822760185006, 'Longitude': -76.85755610107417}, 166500231: {'Latitude': 39.29939839238015, 'Longitude': -76.89745172530694}, 156500138: {'Latitude': 39.31610309148875, 'Longitude': -76.89956817410636}, 166500232: {'Latitude': 39.216447396266055, 'Longitude': -76.6138777810586}, 65092646: {'Latitude': 39.22039238257287, 'Longitude': -76.61344061426092}, 6502791: {'Latitude': 39.13322567759376, 'Longitude': -76.63998609268401}, 650782: {'Latitude': 39.17925991434776, 'Longitude': -76.61578882448849}, 226500010: {'Latitude': 39.18532197970758, 'Longitude': -76.61313700392527}, 650616: {'Latitude': 39.19332201751366, 'Longitude': -76.61191797892036}, 6501032: {'Latitude': 39.19246240893362, 'Longitude': -76.6157056883124}, 6501057: {'Latitude': 39.19331508472434, 'Longitude': -76.61151301235077}, 650827: {'Latitude': 39.555731974991446, 'Longitude': -76.27449992480416}, 176500001: {'Latitude': 39.49765198814416, 'Longitude': -76.33121048522531}, 6501086: {'Latitude': 39.49714761339712, 'Longitude': -76.32661347294763}, 236500011: {'Latitude': 39.495477899790544, 'Longitude': -76.32724361193071}, 650814: {'Latitude': 39.49851870140086, 'Longitude': -76.32638961833707}, 236500001: {'Latitude': 39.49714761339712, 'Longitude': -76.32661347294763}, 226500014: {'Latitude': 39.41564098658876, 'Longitude': -76.462699314475}, 650721: {'Latitude': 39.41141358938473, 'Longitude': -76.46508677231154}, 166500206: {'Latitude': 39.41909792744568, 'Longitude': -76.4576191268887}, 650437: {'Latitude': 39.47071340337784, 'Longitude': -76.63835161598183}, 6501054: {'Latitude': 39.46388208488228, 'Longitude': -76.63680520289277}, 65092638: {'Latitude': 39.45864341716983, 'Longitude': -76.66397108001644}, 166500234: {'Latitude': 39.451969203701694, 'Longitude': -76.63961727975129}, 156500107: {'Latitude': 39.45989481429018, 'Longitude': -76.63515038618888}, 176500023: {'Latitude': 39.472735371436855, 'Longitude': -76.6225206775108}, 65092857: {'Latitude': 39.4555884062062, 'Longitude': -76.62983167627246}, 156500046: {'Latitude': 39.4557189832877, 'Longitude': -76.62962999512858}, 650466: {'Latitude': 39.438583305325615, 'Longitude': -76.62501567952549}, 216500009: {'Latitude': 39.41983721488874, 'Longitude': -76.61503051484662}, 6501052: {'Latitude': 39.481456075557645, 'Longitude': -76.2552758729746}, 216500019: {'Latitude': 39.43503199831983, 'Longitude': -76.31375498222197}, 156500405: {'Latitude': 39.43918387968647, 'Longitude': -76.34496038368863}, 176500019: {'Latitude': 39.45247632864616, 'Longitude': -76.30859251789627}, 650996: {'Latitude': 39.46702430002233, 'Longitude': -76.30773290931624}, 196500025: {'Latitude': 39.419814411168495, 'Longitude': -76.61656329154016}, 216500022: {'Latitude': 39.83000578290076, 'Longitude': -77.23079318471076}, 650942: {'Latitude': 39.82220301446355, 'Longitude': -76.99747199357466}, 650704: {'Latitude': 39.58839417894801, 'Longitude': -77.01109870611204}, 650399: {'Latitude': 39.433568893294186, 'Longitude': -76.62728189949257}, 650946: {'Latitude': 39.44211610579461, 'Longitude': -76.6266050071534}, 650354: {'Latitude': 39.27293077892142, 'Longitude': -77.04565230104612}, 216500010: {'Latitude': 39.56530489653672, 'Longitude': -76.97651130666806}, 166500228: {'Latitude': 39.5891881838605, 'Longitude': -77.01065489300393}, 65048493: {'Latitude': 39.58159970163867, 'Longitude': -76.98900510975712}, 206500004: {'Latitude': 39.56986237472652, 'Longitude': -76.9799225827887}, 216500038: {'Latitude': 39.53179700687453, 'Longitude': -77.03442800054371}, 226500006: {'Latitude': 39.34909801203695, 'Longitude': -77.06719631628394}, 650514: {'Latitude': 39.26429859677998, 'Longitude': -76.9868860826476}, 226500020: {'Latitude': 39.26628641655441, 'Longitude': -76.98723421180392}, 216500018: {'Latitude': 39.42257841686799, 'Longitude': -77.03979850584481}, 216500006: {'Latitude': 39.14694847515337, 'Longitude': -76.90035117822919}, 6501075: {'Latitude': 39.15995748189182, 'Longitude': -76.89133001504064}, 216500003: {'Latitude': 39.09427761096259, 'Longitude': -76.85810997937472}, 226500009: {'Latitude': 39.16072828201361, 'Longitude': -76.89235228633869}, 156500003: {'Latitude': 39.20653900793174, 'Longitude': -76.94535638278313}, 166500213: {'Latitude': 39.20555237460852, 'Longitude': -76.94229541305843}, 216500017: {'Latitude': 39.2361581184468, 'Longitude': -76.93286429856745}, 650500: {'Latitude': 39.14825722534901, 'Longitude': -76.90550367308924}, 236500012: {'Latitude': 39.21480231984467, 'Longitude': -76.93318847808794}, 650787: {'Latitude': 39.40422359930941, 'Longitude': -76.94688692494127}, 650362: {'Latitude': 39.422861171539886, 'Longitude': -76.99659462330298}, 166500009: {'Latitude': 39.40400140627646, 'Longitude': -76.95392382069373}, 166500207: {'Latitude': 39.40309240873449, 'Longitude': -76.95269362301181}, 650464: {'Latitude': 39.39147437163528, 'Longitude': -76.92061067938612}, 166500203: {'Latitude': 39.40098380945685, 'Longitude': -76.94675187878896}, 166500218: {'Latitude': 39.40098380945685, 'Longitude': -76.94675187878896}, 226500002: {'Latitude': 39.36548598007639, 'Longitude': -76.96950689762258}, 226500011: {'Latitude': 39.41439938704672, 'Longitude': -76.97830260191876}, 236500013: {'Latitude': 39.40098380945685, 'Longitude': -76.94675187878896}, 226500012: {'Latitude': 39.267394688817525, 'Longitude': -76.79832630252362}, 186500038: {'Latitude': 39.267223603619904, 'Longitude': -76.79737261427363}}\n"
          ]
        }
      ]
    },
    {
      "id": "46105ed3-4a4a-4bcd-b9cf-818cd3c77436",
      "cell_type": "markdown",
      "source": [
        "# 2. Model Creation\n",
        "\n",
        "In this section, we create the optimization model, define the objective function and add the necessary constraints.\n",
        "\n",
        "We use Google OR-Tools to create a routing model. The routing model is a powerful tool for solving complex routing problems. It provides a high-level interface for defining the problem and uses efficient algorithms to solve it.\n",
        "\n",
        "We define the objective function as the total distance traveled by all vehicles. The model tries to minimize this total distance.\n",
        "\n",
        "We add two types of constraints to the model:\n",
        "\n",
        "- **Route constraints:** These constraints ensure that each customer is visited exactly once by exactly one vehicle.\n",
        "\n",
        "- **Capacity constraints:** These constraints ensure that the total demand served by each vehicle does not exceed its capacity. The capacities of the vehicles are defined as [7000, 15000, 12500]."
      ],
      "metadata": {
        "jupyter": {
          "outputs_hidden": false,
          "source_hidden": false
        },
        "noteable": {
          "cell_type": "markdown"
        },
        "id": "46105ed3-4a4a-4bcd-b9cf-818cd3c77436"
      }
    },
    {
      "id": "8fe6d3ff-3232-4b63-a7c3-3d6e140e0486",
      "cell_type": "code",
      "metadata": {
        "jupyter": {
          "outputs_hidden": false,
          "source_hidden": false
        },
        "noteable": {
          "cell_type": "code",
          "output_collection_id": "e605caea-3dca-4a27-9fff-1a4e6180fd10"
        },
        "ExecuteTime": {
          "end_time": "2023-06-06T19:43:13.327367+00:00",
          "start_time": "2023-06-06T19:43:13.157570+00:00"
        },
        "colab": {
          "base_uri": "https://localhost:8080/"
        },
        "id": "8fe6d3ff-3232-4b63-a7c3-3d6e140e0486",
        "outputId": "b9ebdab4-242f-4a12-87f5-135e8d6361d0"
      },
      "execution_count": 6,
      "source": [
        "# Define vehicle capacities\n",
        "vehicle_capacities = [7000, 15000, 12500]\n",
        "\n",
        "# Create the routing index manager\n",
        "manager = pywrapcp.RoutingIndexManager(len(distance_matrix), len(vehicle_capacities), 0)\n",
        "print\n",
        "# Create Routing Model\n",
        "routing = pywrapcp.RoutingModel(manager)\n",
        "\n",
        "# Create and register a transit callback\n",
        "def distance_callback(from_index, to_index):\n",
        "    return distance_matrix[manager.IndexToNode(from_index)][manager.IndexToNode(to_index)]\n",
        "\n",
        "transit_callback_index = routing.RegisterTransitCallback(distance_callback)\n",
        "\n",
        "# Define cost of each arc\n",
        "routing.SetArcCostEvaluatorOfAllVehicles(transit_callback_index)\n",
        "\n",
        "# Add Capacity constraint\n",
        "def demand_callback(from_index):\n",
        "    return capacities[manager.IndexToNode(from_index)]\n",
        "\n",
        "demand_callback_index = routing.RegisterUnaryTransitCallback(demand_callback)\n",
        "routing.AddDimensionWithVehicleCapacity(\n",
        "    demand_callback_index,\n",
        "    0,  # null capacity slack\n",
        "    vehicle_capacities,  # vehicle maximum capacities\n",
        "    True,  # start cumul to zero\n",
        "    'Capacity')"
      ],
      "outputs": [
        {
          "output_type": "execute_result",
          "data": {
            "text/plain": [
              "True"
            ]
          },
          "metadata": {},
          "execution_count": 6
        }
      ]
    },
    {
      "id": "6e3ec548-1cb0-4558-8861-e7b2d5d9ab06",
      "cell_type": "markdown",
      "source": [
        "# 3. Problem Solving\n",
        "\n",
        "In this section, we solve the optimization problem and obtain the optimal set of routes.\n",
        "\n",
        "We define the search parameters for the solver, including the search strategy and the time limit. We use the guided local search metaheuristic, which is a good choice for vehicle routing problems.\n",
        "\n",
        "We then call the `SolveWithParameters` method of the routing model to solve the problem. This method returns a solution, which is an object that contains the optimal set of routes."
      ],
      "metadata": {
        "jupyter": {
          "outputs_hidden": false,
          "source_hidden": false
        },
        "noteable": {
          "cell_type": "markdown"
        },
        "id": "6e3ec548-1cb0-4558-8861-e7b2d5d9ab06"
      }
    },
    {
      "id": "7d9eb46e-8e87-473a-b40b-0fa2632aa8f0",
      "cell_type": "code",
      "metadata": {
        "jupyter": {
          "outputs_hidden": false,
          "source_hidden": false
        },
        "noteable": {
          "cell_type": "code",
          "output_collection_id": "e487c80c-4a40-47a2-a0e7-1936f5f923d7"
        },
        "ExecuteTime": {
          "end_time": "2023-06-06T19:43:13.991808+00:00",
          "start_time": "2023-06-06T19:43:13.335210+00:00"
        },
        "id": "7d9eb46e-8e87-473a-b40b-0fa2632aa8f0"
      },
      "execution_count": 7,
      "source": [
        "# Set search parameters\n",
        "search_parameters = pywrapcp.DefaultRoutingSearchParameters()\n",
        "search_parameters.time_limit.seconds = 30\n",
        "search_parameters.first_solution_strategy = (\n",
        "    routing_enums_pb2.FirstSolutionStrategy.PATH_CHEAPEST_ARC)\n",
        "search_parameters.local_search_metaheuristic = (\n",
        "    routing_enums_pb2.LocalSearchMetaheuristic.GUIDED_LOCAL_SEARCH)\n",
        "\n",
        "# Solve the problem\n",
        "solution = routing.SolveWithParameters(search_parameters)"
      ],
      "outputs": []
    },
    {
      "id": "9b0ad174-1bf6-4269-b9d5-dca8178794a0",
      "cell_type": "markdown",
      "source": [
        "# 4. Solution Presentation\n",
        "\n",
        "In this section, we present the solution in a human-readable format, showing the routes for each vehicle and the total distance and demand served.\n",
        "\n",
        "We iterate over each vehicle and each node in its route, printing the customer number and name, the demand served, and the cumulative distance traveled. We also keep track of the total distance and demand served by all vehicles.\n",
        "\n",
        "Finally, we print the total distance and demand served by all vehicles."
      ],
      "metadata": {
        "jupyter": {
          "outputs_hidden": false,
          "source_hidden": false
        },
        "noteable": {
          "cell_type": "markdown"
        },
        "id": "9b0ad174-1bf6-4269-b9d5-dca8178794a0"
      }
    },
    {
      "id": "c330645f-3d88-4f31-a7c3-db74fd64fa70",
      "cell_type": "code",
      "metadata": {
        "jupyter": {
          "outputs_hidden": false,
          "source_hidden": false
        },
        "noteable": {
          "cell_type": "code",
          "output_collection_id": "7cee6ad5-c0f7-4a93-b5e4-4042c49f9a85"
        },
        "ExecuteTime": {
          "end_time": "2023-06-06T19:52:40.521382+00:00",
          "start_time": "2023-06-06T19:52:40.358926+00:00"
        },
        "colab": {
          "base_uri": "https://localhost:8080/",
          "height": 634
        },
        "id": "c330645f-3d88-4f31-a7c3-db74fd64fa70",
        "outputId": "94a45d43-90a9-4f19-e5cd-ded5c336c9c2"
      },
      "execution_count": 8,
      "source": [
        "# Print solution\n",
        "total_distance = 0\n",
        "total_load = 0\n",
        "for vehicle_id in range(len(vehicle_capacities)):\n",
        "    index = routing.Start(vehicle_id)\n",
        "    plan_output = 'Route for vehicle {}:\\n'.format(vehicle_id)\n",
        "    route_distance = 0\n",
        "    route_load = 0\n",
        "    while not routing.IsEnd(index):\n",
        "        node_index = manager.IndexToNode(index)\n",
        "        next_node_index = manager.IndexToNode(solution.Value(routing.NextVar(index)))\n",
        "        route_load += capacities.get(node_index, 0)\n",
        "        route_distance += routing.GetArcCostForVehicle(node_index, next_node_index, vehicle_id)\n",
        "        plan_output += ' {} Load({}) -> '.format(customer_names.get(node_index, 'Unknown'), route_load)\n",
        "        index = solution.Value(routing.NextVar(index))\n",
        "    node_index = manager.IndexToNode(index)\n",
        "    total_distance += route_distance\n",
        "    total_load += route_load\n",
        "    plan_output += ' {} Load({})\\n'.format(customer_names.get(node_index, 'Unknown'), route_load)\n",
        "    plan_output += 'Distance of the route: {}m\\n'.format(route_distance)\n",
        "    plan_output += 'Load of the route: {}\\n'.format(route_load)\n",
        "    print(plan_output)\n",
        "print('Total distance of all routes: {}m'.format(total_distance))\n",
        "print('Total load of all routes: {}'.format(total_load))"
      ],
      "outputs": [
        {
          "output_type": "stream",
          "name": "stdout",
          "text": [
            "Route for vehicle 0:\n",
            " Unknown Load(0) ->  Unknown Load(0)\n",
            "Distance of the route: 0m\n",
            "Load of the route: 0\n",
            "\n",
            "Route for vehicle 1:\n",
            " Unknown Load(0) ->  Unknown Load(0)\n",
            "Distance of the route: 0m\n",
            "Load of the route: 0\n",
            "\n"
          ]
        },
        {
          "output_type": "error",
          "ename": "SystemError",
          "evalue": "ignored",
          "traceback": [
            "\u001b[0;31m---------------------------------------------------------------------------\u001b[0m",
            "\u001b[0;31mTypeError\u001b[0m                                 Traceback (most recent call last)",
            "\u001b[0;31mTypeError\u001b[0m: 'numpy.float64' object cannot be interpreted as an integer",
            "\nThe above exception was the direct cause of the following exception:\n",
            "\u001b[0;31mSystemError\u001b[0m                               Traceback (most recent call last)",
            "\u001b[0;32m<ipython-input-8-13690c2a3ac2>\u001b[0m in \u001b[0;36m<cell line: 4>\u001b[0;34m()\u001b[0m\n\u001b[1;32m     11\u001b[0m         \u001b[0mnext_node_index\u001b[0m \u001b[0;34m=\u001b[0m \u001b[0mmanager\u001b[0m\u001b[0;34m.\u001b[0m\u001b[0mIndexToNode\u001b[0m\u001b[0;34m(\u001b[0m\u001b[0msolution\u001b[0m\u001b[0;34m.\u001b[0m\u001b[0mValue\u001b[0m\u001b[0;34m(\u001b[0m\u001b[0mrouting\u001b[0m\u001b[0;34m.\u001b[0m\u001b[0mNextVar\u001b[0m\u001b[0;34m(\u001b[0m\u001b[0mindex\u001b[0m\u001b[0;34m)\u001b[0m\u001b[0;34m)\u001b[0m\u001b[0;34m)\u001b[0m\u001b[0;34m\u001b[0m\u001b[0;34m\u001b[0m\u001b[0m\n\u001b[1;32m     12\u001b[0m         \u001b[0mroute_load\u001b[0m \u001b[0;34m+=\u001b[0m \u001b[0mcapacities\u001b[0m\u001b[0;34m.\u001b[0m\u001b[0mget\u001b[0m\u001b[0;34m(\u001b[0m\u001b[0mnode_index\u001b[0m\u001b[0;34m,\u001b[0m \u001b[0;36m0\u001b[0m\u001b[0;34m)\u001b[0m\u001b[0;34m\u001b[0m\u001b[0;34m\u001b[0m\u001b[0m\n\u001b[0;32m---> 13\u001b[0;31m         \u001b[0mroute_distance\u001b[0m \u001b[0;34m+=\u001b[0m \u001b[0mrouting\u001b[0m\u001b[0;34m.\u001b[0m\u001b[0mGetArcCostForVehicle\u001b[0m\u001b[0;34m(\u001b[0m\u001b[0mnode_index\u001b[0m\u001b[0;34m,\u001b[0m \u001b[0mnext_node_index\u001b[0m\u001b[0;34m,\u001b[0m \u001b[0mvehicle_id\u001b[0m\u001b[0;34m)\u001b[0m\u001b[0;34m\u001b[0m\u001b[0;34m\u001b[0m\u001b[0m\n\u001b[0m\u001b[1;32m     14\u001b[0m         \u001b[0mplan_output\u001b[0m \u001b[0;34m+=\u001b[0m \u001b[0;34m' {} Load({}) -> '\u001b[0m\u001b[0;34m.\u001b[0m\u001b[0mformat\u001b[0m\u001b[0;34m(\u001b[0m\u001b[0mcustomer_names\u001b[0m\u001b[0;34m.\u001b[0m\u001b[0mget\u001b[0m\u001b[0;34m(\u001b[0m\u001b[0mnode_index\u001b[0m\u001b[0;34m,\u001b[0m \u001b[0;34m'Unknown'\u001b[0m\u001b[0;34m)\u001b[0m\u001b[0;34m,\u001b[0m \u001b[0mroute_load\u001b[0m\u001b[0;34m)\u001b[0m\u001b[0;34m\u001b[0m\u001b[0;34m\u001b[0m\u001b[0m\n\u001b[1;32m     15\u001b[0m         \u001b[0mindex\u001b[0m \u001b[0;34m=\u001b[0m \u001b[0msolution\u001b[0m\u001b[0;34m.\u001b[0m\u001b[0mValue\u001b[0m\u001b[0;34m(\u001b[0m\u001b[0mrouting\u001b[0m\u001b[0;34m.\u001b[0m\u001b[0mNextVar\u001b[0m\u001b[0;34m(\u001b[0m\u001b[0mindex\u001b[0m\u001b[0;34m)\u001b[0m\u001b[0;34m)\u001b[0m\u001b[0;34m\u001b[0m\u001b[0;34m\u001b[0m\u001b[0m\n",
            "\u001b[0;32m/usr/local/lib/python3.10/dist-packages/ortools/constraint_solver/pywrapcp.py\u001b[0m in \u001b[0;36mGetArcCostForVehicle\u001b[0;34m(self, from_index, to_index, vehicle)\u001b[0m\n\u001b[1;32m   5696\u001b[0m         \u001b[0mInput\u001b[0m \u001b[0mare\u001b[0m \u001b[0mvariable\u001b[0m \u001b[0mindices\u001b[0m \u001b[0mof\u001b[0m \u001b[0mnode\u001b[0m\u001b[0;34m.\u001b[0m \u001b[0mThis\u001b[0m \u001b[0mreturns\u001b[0m \u001b[0;36m0\u001b[0m \u001b[0;32mif\u001b[0m \u001b[0mvehicle\u001b[0m \u001b[0;34m<\u001b[0m \u001b[0;36m0.\u001b[0m\u001b[0;34m\u001b[0m\u001b[0;34m\u001b[0m\u001b[0m\n\u001b[1;32m   5697\u001b[0m         \"\"\"\n\u001b[0;32m-> 5698\u001b[0;31m         \u001b[0;32mreturn\u001b[0m \u001b[0m_pywrapcp\u001b[0m\u001b[0;34m.\u001b[0m\u001b[0mRoutingModel_GetArcCostForVehicle\u001b[0m\u001b[0;34m(\u001b[0m\u001b[0mself\u001b[0m\u001b[0;34m,\u001b[0m \u001b[0mfrom_index\u001b[0m\u001b[0;34m,\u001b[0m \u001b[0mto_index\u001b[0m\u001b[0;34m,\u001b[0m \u001b[0mvehicle\u001b[0m\u001b[0;34m)\u001b[0m\u001b[0;34m\u001b[0m\u001b[0;34m\u001b[0m\u001b[0m\n\u001b[0m\u001b[1;32m   5699\u001b[0m \u001b[0;34m\u001b[0m\u001b[0m\n\u001b[1;32m   5700\u001b[0m     \u001b[0;32mdef\u001b[0m \u001b[0mCostsAreHomogeneousAcrossVehicles\u001b[0m\u001b[0;34m(\u001b[0m\u001b[0mself\u001b[0m\u001b[0;34m)\u001b[0m\u001b[0;34m:\u001b[0m\u001b[0;34m\u001b[0m\u001b[0;34m\u001b[0m\u001b[0m\n",
            "\u001b[0;31mSystemError\u001b[0m: <built-in function RoutingModel_GetArcCostForVehicle> returned a result with an exception set"
          ]
        }
      ]
    },
    {
      "id": "062e0c8d-f013-437d-a99c-a51f46d4966b",
      "cell_type": "markdown",
      "source": [
        "# 5. Visualization\n",
        "\n",
        "In this section, we visualize the routes on a map, providing a graphical representation of the solution.\n",
        "\n",
        "We use the `folium` library to create a map and add markers for each customer. We then add lines between the customers to represent the routes. Each route is color-coded by vehicle.\n",
        "\n",
        "Finally, we display the map."
      ],
      "metadata": {
        "jupyter": {
          "outputs_hidden": false,
          "source_hidden": false
        },
        "noteable": {
          "cell_type": "markdown"
        },
        "id": "062e0c8d-f013-437d-a99c-a51f46d4966b"
      }
    },
    {
      "id": "79513aa9-1e7a-4a5d-afe8-98b42a97028f",
      "cell_type": "code",
      "metadata": {
        "jupyter": {
          "outputs_hidden": false,
          "source_hidden": false
        },
        "noteable": {
          "cell_type": "code",
          "output_collection_id": "ef8cc900-384c-4faa-934e-b67505f57796"
        },
        "ExecuteTime": {
          "end_time": "2023-06-06T21:08:47.575165+00:00",
          "start_time": "2023-06-06T21:08:47.391275+00:00"
        },
        "id": "79513aa9-1e7a-4a5d-afe8-98b42a97028f"
      },
      "execution_count": null,
      "source": [
        "import folium\n",
        "from folium import plugins\n",
        "\n",
        "# Create a map centered around the coordinates of the first customer\n",
        "m = folium.Map(location=[coordinates[0]['Latitude'], coordinates[0]['Longitude']], zoom_start=12)\n",
        "\n",
        "# Add markers for each customer\n",
        "for node_index in range(len(distance_matrix)):\n",
        "    folium.Marker([coordinates[node_index]['Latitude'], coordinates[node_index]['Longitude']],\n",
        "                  popup='{}: {}'.format(node_index, customer_names[node_index]),\n",
        "                  icon=folium.Icon(color='blue')).add_to(m)\n",
        "\n",
        "# Add lines representing the routes\n",
        "colors = ['red', 'green', 'blue']\n",
        "for vehicle_id in range(len(vehicle_capacities)):\n",
        "    route_coordinates = []\n",
        "    index = routing.Start(vehicle_id)\n",
        "    while not routing.IsEnd(index):\n",
        "        node_index = manager.IndexToNode(index)\n",
        "        route_coordinates.append([coordinates[node_index]['Latitude'], coordinates[node_index]['Longitude']])\n",
        "        index = routing.NextVar(index).solution_value()\n",
        "    node_index = manager.IndexToNode(index)\n",
        "    route_coordinates.append([coordinates[node_index]['Latitude'], coordinates[node_index]['Longitude']])\n",
        "    folium.PolyLine(route_coordinates, color=colors[vehicle_id % len(colors)], weight=2.5, opacity=1).add_to(m)\n",
        "\n",
        "# Display the map\n",
        "m"
      ],
      "outputs": []
    }
  ]
}